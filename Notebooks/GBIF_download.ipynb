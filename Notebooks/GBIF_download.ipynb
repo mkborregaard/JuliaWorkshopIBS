{
 "cells": [
  {
   "cell_type": "code",
   "execution_count": null,
   "metadata": {},
   "outputs": [],
   "source": [
    "#]add GBIF#mkb/dev"
   ]
  },
  {
   "cell_type": "code",
   "execution_count": null,
   "metadata": {},
   "outputs": [],
   "source": [
    "using GBIF"
   ]
  },
  {
   "cell_type": "code",
   "execution_count": null,
   "metadata": {},
   "outputs": [],
   "source": [
    "tax = \"Malvaceae\"\n",
    "taxon_rank = :FAMILY\n",
    "phylum = \"plants\"\n",
    "life_form = \"terrestrial\""
   ]
  },
  {
   "cell_type": "code",
   "execution_count": null,
   "metadata": {},
   "outputs": [],
   "source": [
    "gbtax = GBIF.taxon(tax, rank = taxon_rank)"
   ]
  },
  {
   "cell_type": "code",
   "execution_count": null,
   "metadata": {},
   "outputs": [],
   "source": [
    "occ = GBIF.occurrences(gbtax)"
   ]
  },
  {
   "cell_type": "code",
   "execution_count": null,
   "metadata": {},
   "outputs": [],
   "source": [
    "occ = GBIF.occurrences(gbtax, Dict{String, Any}(\"country\" => \"BR\"))"
   ]
  },
  {
   "cell_type": "code",
   "execution_count": null,
   "metadata": {},
   "outputs": [],
   "source": [
    "qualitycontrol!(occ, filters = [have_both_coordinates]);"
   ]
  },
  {
   "cell_type": "code",
   "execution_count": null,
   "metadata": {},
   "outputs": [],
   "source": []
  },
  {
   "cell_type": "code",
   "execution_count": null,
   "metadata": {},
   "outputs": [],
   "source": [
    "gbtax2 = GBIF.taxon.(\"Pseudobombax\", rank = :GENUS)\n",
    "occ2 = GBIF.occurrences(gbtax2, Dict{String, Any}(\"limit\" => 300, \"geometry\" => \"POLYGON((-34.7 32.8, -117.2 32.8, -117.2 -55.8, -34.7 -55.8, -34.7 32.8))\"))"
   ]
  },
  {
   "cell_type": "code",
   "execution_count": null,
   "metadata": {},
   "outputs": [],
   "source": [
    "complete!(occ2);"
   ]
  },
  {
   "cell_type": "code",
   "execution_count": null,
   "metadata": {},
   "outputs": [],
   "source": [
    "using Query, Dates, DataFrames, StatPlots"
   ]
  },
  {
   "cell_type": "code",
   "execution_count": null,
   "metadata": {},
   "outputs": [],
   "source": [
    "dats = occ2 |> \n",
    "@filter(ismissing(_.basisOfRecord) || _.basisOfRecord ∈ (:HUMAN_OBSERVATION, :OBSERVATION, :PRESERVED_SPECIMEN)) |>\n",
    "@filter(ismissing(_.uncertainty) || _.uncertainty/1000 <= 100) |>\n",
    "@filter(ismissing(_.date) || year(_.date) > 1945) |>\n",
    "@filter(have_both_coordinates(_)) |>\n",
    "DataFrame\n",
    "first(dats, 5)"
   ]
  },
  {
   "cell_type": "code",
   "execution_count": null,
   "metadata": {},
   "outputs": [],
   "source": [
    "@df dats scatter(:longitude, :latitude, \n",
    "    group = :basisOfRecord, \n",
    "    aspect_ratio = 1, \n",
    "    legend = :bottomleft, \n",
    "    ms = 3, msc = :white)"
   ]
  },
  {
   "cell_type": "code",
   "execution_count": null,
   "metadata": {},
   "outputs": [],
   "source": [
    "using SpatialEcology"
   ]
  },
  {
   "cell_type": "code",
   "execution_count": null,
   "metadata": {},
   "outputs": [],
   "source": [
    "cord = hcat(dats[:longitude], dats[:latitude])\n",
    "cord = round.((cord .+ 0.5) ./ 3) .* 3 .- 0.5\n",
    "sites = vec(mapslices(x->\"$(x[1])_$(x[2])\", cord, dims = 2))"
   ]
  },
  {
   "cell_type": "code",
   "execution_count": null,
   "metadata": {},
   "outputs": [],
   "source": [
    "cm = ComMatrix(species = dats[:scientific], sites = sites)"
   ]
  },
  {
   "cell_type": "code",
   "execution_count": null,
   "metadata": {},
   "outputs": [],
   "source": [
    "pbom = Assemblage(cm, unique(cord, dims = 1))"
   ]
  },
  {
   "cell_type": "code",
   "execution_count": null,
   "metadata": {},
   "outputs": [],
   "source": [
    "plot(pbom)"
   ]
  },
  {
   "cell_type": "code",
   "execution_count": null,
   "metadata": {},
   "outputs": [],
   "source": []
  },
  {
   "cell_type": "code",
   "execution_count": null,
   "metadata": {},
   "outputs": [],
   "source": [
    "using Proj4"
   ]
  },
  {
   "cell_type": "code",
   "execution_count": null,
   "metadata": {},
   "outputs": [],
   "source": [
    "latlon = Projection(\"+proj=longlat +datum=WGS84 +no_defs\")\n",
    "behr = Projection(\"+proj=cea +lon_0=0 +lat_ts=30 +datum=WGS84 +units=m +no_defs\")\n",
    "newcd = transform(latlon, behr, hcat(dats[:longitude], dats[:latitude]))\n"
   ]
  },
  {
   "cell_type": "code",
   "execution_count": null,
   "metadata": {},
   "outputs": [],
   "source": [
    "scatter(newcd[:,1], newcd[:,2], aspectratio=1)"
   ]
  },
  {
   "cell_type": "code",
   "execution_count": null,
   "metadata": {},
   "outputs": [],
   "source": []
  },
  {
   "cell_type": "code",
   "execution_count": null,
   "metadata": {},
   "outputs": [],
   "source": [
    "using Shapefile"
   ]
  },
  {
   "cell_type": "code",
   "execution_count": null,
   "metadata": {},
   "outputs": [],
   "source": [
    "shp = open(\"../Data/World_coast/World_coast.shp\", \"r\") do io\n",
    "    read(io, Shapefile.Handle)\n",
    "end"
   ]
  },
  {
   "cell_type": "code",
   "execution_count": null,
   "metadata": {},
   "outputs": [],
   "source": [
    "plot(shp.shapes, xlim = extrema(dats[:longitude]), ylim = extrema(dats[:latitude]), c = :lightgrey)\n",
    "plot!(pbom)"
   ]
  },
  {
   "cell_type": "code",
   "execution_count": null,
   "metadata": {},
   "outputs": [],
   "source": []
  },
  {
   "cell_type": "code",
   "execution_count": null,
   "metadata": {},
   "outputs": [],
   "source": []
  },
  {
   "cell_type": "markdown",
   "metadata": {},
   "source": [
    "Don't run the code below!\n",
    "If we want to transform the shapefile too, we can use the GDAL library, in Julia often used with ArchGDAL. This shows how to do the transformation, but it appears to leak memory. "
   ]
  },
  {
   "cell_type": "code",
   "execution_count": null,
   "metadata": {},
   "outputs": [],
   "source": [
    "using ArchGDAL\n",
    "const AG = ArchGDAL"
   ]
  },
  {
   "cell_type": "code",
   "execution_count": null,
   "metadata": {},
   "outputs": [],
   "source": [
    "shapes = AG.registerdrivers() do\n",
    "    AG.read(\"../Data/World_coast/World_coast.shp\") do dataset\n",
    "        [AG.getgeom(feature) for feature in AG.getlayer(dataset, 0)]\n",
    "    end\n",
    "end"
   ]
  },
  {
   "cell_type": "code",
   "execution_count": null,
   "metadata": {},
   "outputs": [],
   "source": [
    "AGbehr = AG.importPROJ4(\"+proj=cea +lon_0=0 +lat_ts=30 +datum=WGS84 +units=m +no_defs\")\n",
    "AGlatlon = AG.importPROJ4(\"+proj=longlat +datum=WGS84 +no_defs\")\n",
    "AG.createcoordtrans(AGlatlon, AGbehr) do coordtrans\n",
    "    AG.transform!.(shapes, Ref(coordtrans))\n",
    "end"
   ]
  },
  {
   "cell_type": "code",
   "execution_count": null,
   "metadata": {},
   "outputs": [],
   "source": [
    "plot(shapes)"
   ]
  },
  {
   "cell_type": "code",
   "execution_count": null,
   "metadata": {},
   "outputs": [],
   "source": []
  },
  {
   "cell_type": "code",
   "execution_count": null,
   "metadata": {},
   "outputs": [],
   "source": []
  }
 ],
 "metadata": {
  "kernelspec": {
   "display_name": "Julia 1.1.0-rc1",
   "language": "julia",
   "name": "julia-1.1"
  },
  "language_info": {
   "file_extension": ".jl",
   "mimetype": "application/julia",
   "name": "julia",
   "version": "1.1.0"
  }
 },
 "nbformat": 4,
 "nbformat_minor": 2
}
