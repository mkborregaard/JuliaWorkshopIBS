{
 "cells": [
  {
   "cell_type": "markdown",
   "metadata": {},
   "source": [
    "First let's load packages"
   ]
  },
  {
   "cell_type": "code",
   "execution_count": null,
   "metadata": {},
   "outputs": [],
   "source": [
    "using GLM, StatsModels # for fitting models\n",
    "using DataFrames, CSV  # for reading and using tables\n",
    "using StatPlots        # for plotting"
   ]
  },
  {
   "cell_type": "markdown",
   "metadata": {},
   "source": [
    "That's a lot of packages to load for something simple. You can instead use `using StatsKit` to load all the most commonly used statistical packages: Bootstrap, CategoricalArrays, Clustering, CSV, DataFrames, Distances, Distributions, GLM, HypothesisTests, KernelDensity, Loess, MultivariateStats, StatsBase, TimeSeries"
   ]
  },
  {
   "cell_type": "markdown",
   "metadata": {},
   "source": [
    "Let's get the data and plot it"
   ]
  },
  {
   "cell_type": "code",
   "execution_count": null,
   "metadata": {},
   "outputs": [],
   "source": [
    "islands = CSV.read(\"../Data/All_island_snails.tsv\", delim = '\\t', allowmissing = :auto)"
   ]
  },
  {
   "cell_type": "code",
   "execution_count": null,
   "metadata": {},
   "outputs": [],
   "source": [
    "@df islands scatter(:Area, :Snails, scale = :log10)"
   ]
  },
  {
   "cell_type": "code",
   "execution_count": null,
   "metadata": {},
   "outputs": [],
   "source": [
    "@df islands scatter(log.(:Area), :Time, log.(:Snails))"
   ]
  },
  {
   "cell_type": "markdown",
   "metadata": {},
   "source": [
    "Let's run a linear model"
   ]
  },
  {
   "cell_type": "code",
   "execution_count": null,
   "metadata": {},
   "outputs": [],
   "source": [
    "islands[:LogSnails] = log.(islands[:Snails])\n",
    "model1 = lm(@formula(LogSnails  ~ LogArea), islands)"
   ]
  },
  {
   "cell_type": "markdown",
   "metadata": {},
   "source": [
    "Let's look at the famous time effect, expected from the work of Whittaker et al. (2008)"
   ]
  },
  {
   "cell_type": "code",
   "execution_count": null,
   "metadata": {},
   "outputs": [],
   "source": [
    "model2 = lm(@formula(LogSnails  ~ LogArea + Time + Time2), islands)"
   ]
  },
  {
   "cell_type": "markdown",
   "metadata": {},
   "source": [
    "A weak effect of age on the overall relationship.\n",
    "\n",
    "But this mixes together lots of different archipelagos with different patterns"
   ]
  },
  {
   "cell_type": "code",
   "execution_count": null,
   "metadata": {},
   "outputs": [],
   "source": [
    "@df islands scatter(:Area, :Snails, scale = :log10, group = :Archipelago, legend = :topleft)"
   ]
  },
  {
   "cell_type": "markdown",
   "metadata": {},
   "source": [
    "So let's use a linear mixed model where we can control allow the intercept to vary within archipelago"
   ]
  },
  {
   "cell_type": "code",
   "execution_count": null,
   "metadata": {},
   "outputs": [],
   "source": [
    "using MixedModels"
   ]
  },
  {
   "cell_type": "code",
   "execution_count": null,
   "metadata": {},
   "outputs": [],
   "source": [
    "model2 = fit(LinearMixedModel, @formula(LogSnails  ~ LogArea + Time + Time2 + (1 | Archipelago)), islands)"
   ]
  },
  {
   "cell_type": "markdown",
   "metadata": {},
   "source": [
    "#### Exercise\n",
    "Try fitting models with different random structures and fixed effects and find the best fitting model. You can fit a random-slope models with the syntax `(fixedeffect | randomeffect)`"
   ]
  },
  {
   "cell_type": "code",
   "execution_count": null,
   "metadata": {},
   "outputs": [],
   "source": []
  }
 ],
 "metadata": {
  "kernelspec": {
   "display_name": "Julia 1.1.0-rc1",
   "language": "julia",
   "name": "julia-1.1"
  },
  "language_info": {
   "file_extension": ".jl",
   "mimetype": "application/julia",
   "name": "julia",
   "version": "1.1.0"
  }
 },
 "nbformat": 4,
 "nbformat_minor": 2
}
