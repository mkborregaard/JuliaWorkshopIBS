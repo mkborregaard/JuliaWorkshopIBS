{
 "cells": [
  {
   "cell_type": "markdown",
   "metadata": {},
   "source": [
    "## DataFrames\n",
    "Julia does not only have one table implemenation - it has several. DataFrames is one of them, most inspired by R, but there's also e.g. JuliaDB"
   ]
  },
  {
   "cell_type": "code",
   "execution_count": 2,
   "metadata": {},
   "outputs": [
    {
     "data": {
      "text/html": [
       "<table class=\"data-frame\"><thead><tr><th></th><th>a</th><th>b</th></tr><tr><th></th><th>Int64</th><th>Float64</th></tr></thead><tbody><p>10 rows × 2 columns</p><tr><th>1</th><td>1</td><td>-0.380988</td></tr><tr><th>2</th><td>2</td><td>1.86472</td></tr><tr><th>3</th><td>3</td><td>0.652373</td></tr><tr><th>4</th><td>4</td><td>0.263622</td></tr><tr><th>5</th><td>5</td><td>-0.697547</td></tr><tr><th>6</th><td>6</td><td>-0.202568</td></tr><tr><th>7</th><td>7</td><td>-1.12496</td></tr><tr><th>8</th><td>8</td><td>-0.544695</td></tr><tr><th>9</th><td>9</td><td>0.508601</td></tr><tr><th>10</th><td>10</td><td>0.521954</td></tr></tbody></table>"
      ],
      "text/latex": [
       "\\begin{tabular}{r|cc}\n",
       "\t& a & b\\\\\n",
       "\t\\hline\n",
       "\t1 & 1 & -0.380988 \\\\\n",
       "\t2 & 2 & 1.86472 \\\\\n",
       "\t3 & 3 & 0.652373 \\\\\n",
       "\t4 & 4 & 0.263622 \\\\\n",
       "\t5 & 5 & -0.697547 \\\\\n",
       "\t6 & 6 & -0.202568 \\\\\n",
       "\t7 & 7 & -1.12496 \\\\\n",
       "\t8 & 8 & -0.544695 \\\\\n",
       "\t9 & 9 & 0.508601 \\\\\n",
       "\t10 & 10 & 0.521954 \\\\\n",
       "\\end{tabular}\n"
      ],
      "text/plain": [
       "10×2 DataFrame\n",
       "│ Row │ a     │ b         │\n",
       "│     │ \u001b[90mInt64\u001b[39m │ \u001b[90mFloat64\u001b[39m   │\n",
       "├─────┼───────┼───────────┤\n",
       "│ 1   │ 1     │ -0.380988 │\n",
       "│ 2   │ 2     │ 1.86472   │\n",
       "│ 3   │ 3     │ 0.652373  │\n",
       "│ 4   │ 4     │ 0.263622  │\n",
       "│ 5   │ 5     │ -0.697547 │\n",
       "│ 6   │ 6     │ -0.202568 │\n",
       "│ 7   │ 7     │ -1.12496  │\n",
       "│ 8   │ 8     │ -0.544695 │\n",
       "│ 9   │ 9     │ 0.508601  │\n",
       "│ 10  │ 10    │ 0.521954  │"
      ]
     },
     "execution_count": 2,
     "metadata": {},
     "output_type": "execute_result"
    }
   ],
   "source": [
    "using DataFrames\n",
    "df = DataFrame(a = 1:10, b = randn(10))"
   ]
  },
  {
   "cell_type": "code",
   "execution_count": 3,
   "metadata": {},
   "outputs": [
    {
     "data": {
      "text/html": [
       "<table class=\"data-frame\"><thead><tr><th></th><th>variable</th><th>mean</th><th>min</th><th>median</th><th>max</th><th>nunique</th><th>nmissing</th><th>eltype</th></tr><tr><th></th><th>Symbol</th><th>Float64</th><th>Real</th><th>Float64</th><th>Real</th><th>Nothing</th><th>Nothing</th><th>DataType</th></tr></thead><tbody><p>2 rows × 8 columns</p><tr><th>1</th><td>a</td><td>5.5</td><td>1</td><td>5.5</td><td>10</td><td></td><td></td><td>Int64</td></tr><tr><th>2</th><td>b</td><td>0.0860511</td><td>-1.12496</td><td>0.0305267</td><td>1.86472</td><td></td><td></td><td>Float64</td></tr></tbody></table>"
      ],
      "text/latex": [
       "\\begin{tabular}{r|cccccccc}\n",
       "\t& variable & mean & min & median & max & nunique & nmissing & eltype\\\\\n",
       "\t\\hline\n",
       "\t1 & a & 5.5 & 1 & 5.5 & 10 &  &  & Int64 \\\\\n",
       "\t2 & b & 0.0860511 & -1.12496 & 0.0305267 & 1.86472 &  &  & Float64 \\\\\n",
       "\\end{tabular}\n"
      ],
      "text/plain": [
       "2×8 DataFrame. Omitted printing of 2 columns\n",
       "│ Row │ variable │ mean      │ min      │ median    │ max     │ nunique │\n",
       "│     │ \u001b[90mSymbol\u001b[39m   │ \u001b[90mFloat64\u001b[39m   │ \u001b[90mReal\u001b[39m     │ \u001b[90mFloat64\u001b[39m   │ \u001b[90mReal\u001b[39m    │ \u001b[90mNothing\u001b[39m │\n",
       "├─────┼──────────┼───────────┼──────────┼───────────┼─────────┼─────────┤\n",
       "│ 1   │ a        │ 5.5       │ 1        │ 5.5       │ 10      │         │\n",
       "│ 2   │ b        │ 0.0860511 │ -1.12496 │ 0.0305267 │ 1.86472 │         │"
      ]
     },
     "execution_count": 3,
     "metadata": {},
     "output_type": "execute_result"
    }
   ],
   "source": [
    "describe(df)"
   ]
  },
  {
   "cell_type": "code",
   "execution_count": 7,
   "metadata": {},
   "outputs": [
    {
     "data": {
      "text/plain": [
       "10-element Array{Int64,1}:\n",
       "  2\n",
       "  4\n",
       "  6\n",
       "  8\n",
       " 10\n",
       " 12\n",
       " 14\n",
       " 16\n",
       " 18\n",
       " 20"
      ]
     },
     "execution_count": 7,
     "metadata": {},
     "output_type": "execute_result"
    }
   ],
   "source": [
    "df[:a] .* 2"
   ]
  },
  {
   "cell_type": "markdown",
   "metadata": {},
   "source": [
    "More commonly you get the DataFrame from somewhere. Let's work with this DataFrame of mammal sleep patterns. You need the CSV package to read the file"
   ]
  },
  {
   "cell_type": "code",
   "execution_count": 8,
   "metadata": {},
   "outputs": [
    {
     "data": {
      "text/html": [
       "<table class=\"data-frame\"><thead><tr><th></th><th>Species</th><th>BodyWt</th><th>BrainWt</th><th>NonDreaming</th><th>Dreaming</th><th>TotalSleep</th><th>LifeSpan</th><th>Gestation</th><th>Predation</th><th>Exposure</th><th>Danger</th></tr><tr><th></th><th>String</th><th>Float64</th><th>Float64</th><th>Float64⍰</th><th>Float64⍰</th><th>Float64⍰</th><th>Float64⍰</th><th>Float64⍰</th><th>Int64</th><th>Int64</th><th>Int64</th></tr></thead><tbody><p>4 rows × 11 columns</p><tr><th>1</th><td>Africanelephant</td><td>6654.0</td><td>5712.0</td><td>missing</td><td>missing</td><td>3.3</td><td>38.6</td><td>645.0</td><td>3</td><td>5</td><td>3</td></tr><tr><th>2</th><td>Africangiantpouchedrat</td><td>1.0</td><td>6.6</td><td>6.3</td><td>2.0</td><td>8.3</td><td>4.5</td><td>42.0</td><td>3</td><td>1</td><td>3</td></tr><tr><th>3</th><td>ArcticFox</td><td>3.385</td><td>44.5</td><td>missing</td><td>missing</td><td>12.5</td><td>14.0</td><td>60.0</td><td>1</td><td>1</td><td>1</td></tr><tr><th>4</th><td>Arcticgroundsquirrel</td><td>0.92</td><td>5.7</td><td>missing</td><td>missing</td><td>16.5</td><td>missing</td><td>25.0</td><td>5</td><td>2</td><td>3</td></tr></tbody></table>"
      ],
      "text/latex": [
       "\\begin{tabular}{r|ccccccccccc}\n",
       "\t& Species & BodyWt & BrainWt & NonDreaming & Dreaming & TotalSleep & LifeSpan & Gestation & Predation & Exposure & Danger\\\\\n",
       "\t\\hline\n",
       "\t1 & Africanelephant & 6654.0 & 5712.0 &  &  & 3.3 & 38.6 & 645.0 & 3 & 5 & 3 \\\\\n",
       "\t2 & Africangiantpouchedrat & 1.0 & 6.6 & 6.3 & 2.0 & 8.3 & 4.5 & 42.0 & 3 & 1 & 3 \\\\\n",
       "\t3 & ArcticFox & 3.385 & 44.5 &  &  & 12.5 & 14.0 & 60.0 & 1 & 1 & 1 \\\\\n",
       "\t4 & Arcticgroundsquirrel & 0.92 & 5.7 &  &  & 16.5 &  & 25.0 & 5 & 2 & 3 \\\\\n",
       "\\end{tabular}\n"
      ],
      "text/plain": [
       "4×11 DataFrame. Omitted printing of 6 columns\n",
       "│ Row │ Species                │ BodyWt  │ BrainWt │ NonDreaming │ Dreaming │\n",
       "│     │ \u001b[90mString\u001b[39m                 │ \u001b[90mFloat64\u001b[39m │ \u001b[90mFloat64\u001b[39m │ \u001b[90mFloat64⍰\u001b[39m    │ \u001b[90mFloat64⍰\u001b[39m │\n",
       "├─────┼────────────────────────┼─────────┼─────────┼─────────────┼──────────┤\n",
       "│ 1   │ Africanelephant        │ 6654.0  │ 5712.0  │ \u001b[90mmissing\u001b[39m     │ \u001b[90mmissing\u001b[39m  │\n",
       "│ 2   │ Africangiantpouchedrat │ 1.0     │ 6.6     │ 6.3         │ 2.0      │\n",
       "│ 3   │ ArcticFox              │ 3.385   │ 44.5    │ \u001b[90mmissing\u001b[39m     │ \u001b[90mmissing\u001b[39m  │\n",
       "│ 4   │ Arcticgroundsquirrel   │ 0.92    │ 5.7     │ \u001b[90mmissing\u001b[39m     │ \u001b[90mmissing\u001b[39m  │"
      ]
     },
     "execution_count": 8,
     "metadata": {},
     "output_type": "execute_result"
    }
   ],
   "source": [
    "using CSV\n",
    "allison = CSV.read(\"../Data/allison.csv\", \n",
    "    missingstring = \"NA\", allowmissing = :auto)\n",
    "first(allison, 4)"
   ]
  },
  {
   "cell_type": "code",
   "execution_count": 5,
   "metadata": {},
   "outputs": [
    {
     "data": {
      "text/html": [
       "<table class=\"data-frame\"><thead><tr><th></th><th>variable</th><th>mean</th><th>min</th><th>median</th><th>max</th><th>nunique</th><th>nmissing</th><th>eltype</th></tr><tr><th></th><th>Symbol</th><th>Union…</th><th>Any</th><th>Union…</th><th>Any</th><th>Union…</th><th>Int64</th><th>DataType</th></tr></thead><tbody><p>11 rows × 8 columns</p><tr><th>1</th><td>Species</td><td></td><td>Africanelephant</td><td></td><td>Yellow-belliedmarmot</td><td>62</td><td>0</td><td>String</td></tr><tr><th>2</th><td>BodyWt</td><td>198.79</td><td>0.005</td><td>3.3425</td><td>6654.0</td><td></td><td>0</td><td>Float64</td></tr><tr><th>3</th><td>BrainWt</td><td>283.134</td><td>0.14</td><td>17.25</td><td>5712.0</td><td></td><td>0</td><td>Float64</td></tr><tr><th>4</th><td>NonDreaming</td><td>8.67292</td><td>2.1</td><td>8.35</td><td>17.9</td><td></td><td>14</td><td>Float64</td></tr><tr><th>5</th><td>Dreaming</td><td>1.972</td><td>0.0</td><td>1.8</td><td>6.6</td><td></td><td>12</td><td>Float64</td></tr><tr><th>6</th><td>TotalSleep</td><td>10.5328</td><td>2.6</td><td>10.45</td><td>19.9</td><td></td><td>4</td><td>Float64</td></tr><tr><th>7</th><td>LifeSpan</td><td>19.8776</td><td>2.0</td><td>15.1</td><td>100.0</td><td></td><td>4</td><td>Float64</td></tr><tr><th>8</th><td>Gestation</td><td>142.353</td><td>12.0</td><td>79.0</td><td>645.0</td><td></td><td>4</td><td>Float64</td></tr><tr><th>9</th><td>Predation</td><td>2.87097</td><td>1</td><td>3.0</td><td>5</td><td></td><td>0</td><td>Int64</td></tr><tr><th>10</th><td>Exposure</td><td>2.41935</td><td>1</td><td>2.0</td><td>5</td><td></td><td>0</td><td>Int64</td></tr><tr><th>11</th><td>Danger</td><td>2.6129</td><td>1</td><td>2.0</td><td>5</td><td></td><td>0</td><td>Int64</td></tr></tbody></table>"
      ],
      "text/latex": [
       "\\begin{tabular}{r|cccccccc}\n",
       "\t& variable & mean & min & median & max & nunique & nmissing & eltype\\\\\n",
       "\t\\hline\n",
       "\t1 & Species &  & Africanelephant &  & Yellow-belliedmarmot & 62 & 0 & String \\\\\n",
       "\t2 & BodyWt & 198.79 & 0.005 & 3.3425 & 6654.0 &  & 0 & Float64 \\\\\n",
       "\t3 & BrainWt & 283.134 & 0.14 & 17.25 & 5712.0 &  & 0 & Float64 \\\\\n",
       "\t4 & NonDreaming & 8.67292 & 2.1 & 8.35 & 17.9 &  & 14 & Float64 \\\\\n",
       "\t5 & Dreaming & 1.972 & 0.0 & 1.8 & 6.6 &  & 12 & Float64 \\\\\n",
       "\t6 & TotalSleep & 10.5328 & 2.6 & 10.45 & 19.9 &  & 4 & Float64 \\\\\n",
       "\t7 & LifeSpan & 19.8776 & 2.0 & 15.1 & 100.0 &  & 4 & Float64 \\\\\n",
       "\t8 & Gestation & 142.353 & 12.0 & 79.0 & 645.0 &  & 4 & Float64 \\\\\n",
       "\t9 & Predation & 2.87097 & 1 & 3.0 & 5 &  & 0 & Int64 \\\\\n",
       "\t10 & Exposure & 2.41935 & 1 & 2.0 & 5 &  & 0 & Int64 \\\\\n",
       "\t11 & Danger & 2.6129 & 1 & 2.0 & 5 &  & 0 & Int64 \\\\\n",
       "\\end{tabular}\n"
      ],
      "text/plain": [
       "11×8 DataFrame. Omitted printing of 4 columns\n",
       "│ Row │ variable    │ mean    │ min             │ median │\n",
       "│     │ \u001b[90mSymbol\u001b[39m      │ \u001b[90mUnion…\u001b[39m  │ \u001b[90mAny\u001b[39m             │ \u001b[90mUnion…\u001b[39m │\n",
       "├─────┼─────────────┼─────────┼─────────────────┼────────┤\n",
       "│ 1   │ Species     │         │ Africanelephant │        │\n",
       "│ 2   │ BodyWt      │ 198.79  │ 0.005           │ 3.3425 │\n",
       "│ 3   │ BrainWt     │ 283.134 │ 0.14            │ 17.25  │\n",
       "│ 4   │ NonDreaming │ 8.67292 │ 2.1             │ 8.35   │\n",
       "│ 5   │ Dreaming    │ 1.972   │ 0.0             │ 1.8    │\n",
       "│ 6   │ TotalSleep  │ 10.5328 │ 2.6             │ 10.45  │\n",
       "│ 7   │ LifeSpan    │ 19.8776 │ 2.0             │ 15.1   │\n",
       "│ 8   │ Gestation   │ 142.353 │ 12.0            │ 79.0   │\n",
       "│ 9   │ Predation   │ 2.87097 │ 1               │ 3.0    │\n",
       "│ 10  │ Exposure    │ 2.41935 │ 1               │ 2.0    │\n",
       "│ 11  │ Danger      │ 2.6129  │ 1               │ 2.0    │"
      ]
     },
     "execution_count": 5,
     "metadata": {},
     "output_type": "execute_result"
    }
   ],
   "source": [
    "describe(allison)"
   ]
  },
  {
   "cell_type": "markdown",
   "metadata": {},
   "source": [
    "There are several packages to do DataFrame wrangling. The one that is closest to R's dplyr is called Query"
   ]
  },
  {
   "cell_type": "code",
   "execution_count": 9,
   "metadata": {},
   "outputs": [],
   "source": [
    "]add Query#master"
   ]
  },
  {
   "cell_type": "code",
   "execution_count": null,
   "metadata": {},
   "outputs": [],
   "source": [
    "using Query"
   ]
  }
 ],
 "metadata": {
  "kernelspec": {
   "display_name": "Julia 1.1.0-rc1",
   "language": "julia",
   "name": "julia-1.1"
  },
  "language_info": {
   "file_extension": ".jl",
   "mimetype": "application/julia",
   "name": "julia",
   "version": "1.1.0"
  }
 },
 "nbformat": 4,
 "nbformat_minor": 2
}
