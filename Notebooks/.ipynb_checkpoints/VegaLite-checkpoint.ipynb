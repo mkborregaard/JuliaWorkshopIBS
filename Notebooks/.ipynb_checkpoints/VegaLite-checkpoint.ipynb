{
 "cells": [
  {
   "cell_type": "code",
   "execution_count": null,
   "metadata": {},
   "outputs": [],
   "source": [
    "# A different interface to the package manager - might be necessary to make this work\n",
    "#import Pkg\n",
    "# if you're on MacOS Mojave you need\n",
    "#Pkg.add(\"Homebrew#master)\n",
    "# if you don't have VegaLite\n",
    "#Pkg.add(\"VegaLite\")\n",
    "#Pkg.build(\"VegaLite\")"
   ]
  },
  {
   "cell_type": "code",
   "execution_count": null,
   "metadata": {},
   "outputs": [],
   "source": [
    "using VegaLite"
   ]
  },
  {
   "cell_type": "code",
   "execution_count": null,
   "metadata": {},
   "outputs": [],
   "source": [
    "using DataFrames, RDatasets"
   ]
  },
  {
   "cell_type": "code",
   "execution_count": null,
   "metadata": {},
   "outputs": [],
   "source": [
    "iris = dataset(\"datasets\", \"iris\")\n",
    "first(iris, 4)"
   ]
  },
  {
   "cell_type": "code",
   "execution_count": null,
   "metadata": {},
   "outputs": [],
   "source": [
    "iris |> @vlplot(:point, x = :SepalLength, y = :SepalWidth)"
   ]
  },
  {
   "cell_type": "code",
   "execution_count": null,
   "metadata": {},
   "outputs": [],
   "source": [
    "iris |> @vlplot(:point, \n",
    "    x = {:SepalLength, scale={zero=false}}, \n",
    "    y = {:SepalWidth, scale={zero=false}})"
   ]
  },
  {
   "cell_type": "code",
   "execution_count": null,
   "metadata": {},
   "outputs": [],
   "source": [
    "iris |> @vlplot(:point, \n",
    "    x = {:SepalLength, scale={zero=false}}, \n",
    "    y = {:SepalWidth, scale={zero=false}},\n",
    "    color = :Species)"
   ]
  },
  {
   "cell_type": "code",
   "execution_count": null,
   "metadata": {},
   "outputs": [],
   "source": [
    "iris |> @vlplot(\n",
    "    x = {:SepalLength, scale={zero=false}}, \n",
    "    y = {:SepalWidth, scale={zero=false}},\n",
    "    color = :Species) +\n",
    "    @vlplot(:point) + @vlplot(:line)"
   ]
  },
  {
   "cell_type": "code",
   "execution_count": null,
   "metadata": {},
   "outputs": [],
   "source": [
    "iris |> @vlplot(:bar,\n",
    "    x={\n",
    "        :SepalLength,\n",
    "        bin={maxbins=10},\n",
    "    },\n",
    "    y=\"count()\")"
   ]
  },
  {
   "cell_type": "code",
   "execution_count": null,
   "metadata": {},
   "outputs": [],
   "source": [
    "iris |> @vlplot(:bar,\n",
    "    x={\n",
    "        :SepalLength,\n",
    "        bin={maxbins=10},\n",
    "    },\n",
    "    y=\"count()\",\n",
    "    row = :Species\n",
    ")"
   ]
  },
  {
   "cell_type": "markdown",
   "metadata": {},
   "source": [
    "#### Mammal dreaming dataset"
   ]
  },
  {
   "cell_type": "code",
   "execution_count": null,
   "metadata": {},
   "outputs": [],
   "source": [
    "using CSV\n",
    "allison = CSV.read(\"allison.csv\", missingstring = \"NA\")\n",
    "first(allison, 4)"
   ]
  },
  {
   "cell_type": "code",
   "execution_count": null,
   "metadata": {},
   "outputs": [],
   "source": [
    "\n"
   ]
  },
  {
   "cell_type": "code",
   "execution_count": null,
   "metadata": {},
   "outputs": [],
   "source": [
    "allison |> @vlplot(:point, x = :BodyWt, y = :Gestation)"
   ]
  },
  {
   "cell_type": "code",
   "execution_count": null,
   "metadata": {},
   "outputs": [],
   "source": [
    "allison |> @vlplot(:point, x = {:BodyWt, scale = {type = :log}}, \n",
    "        y = :Gestation, color = :Predation)"
   ]
  },
  {
   "cell_type": "code",
   "execution_count": null,
   "metadata": {},
   "outputs": [],
   "source": [
    "allison |> @vlplot(:point, x = {:BodyWt, scale = {type = :log}}, \n",
    "        y = :Gestation, color = \"Predation:o\")"
   ]
  },
  {
   "cell_type": "markdown",
   "metadata": {},
   "source": [
    "#### Exercise 1\n",
    "Create different histograms for total sleep for the different predation categories"
   ]
  },
  {
   "cell_type": "code",
   "execution_count": null,
   "metadata": {},
   "outputs": [],
   "source": []
  },
  {
   "cell_type": "markdown",
   "metadata": {},
   "source": [
    "#### Exercise 2\n",
    "Create one or more diagrams investigating the relationship between predation risk and gestation time"
   ]
  },
  {
   "cell_type": "code",
   "execution_count": null,
   "metadata": {},
   "outputs": [],
   "source": []
  }
 ],
 "metadata": {
  "kernelspec": {
   "display_name": "Julia 1.1.0-rc1",
   "language": "julia",
   "name": "julia-1.1"
  },
  "language_info": {
   "file_extension": ".jl",
   "mimetype": "application/julia",
   "name": "julia",
   "version": "1.1.0"
  }
 },
 "nbformat": 4,
 "nbformat_minor": 2
}
