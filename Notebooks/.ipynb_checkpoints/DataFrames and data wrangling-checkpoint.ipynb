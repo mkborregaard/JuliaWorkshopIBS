{
 "cells": [
  {
   "cell_type": "code",
   "execution_count": null,
   "metadata": {},
   "outputs": [],
   "source": [
    "\n",
    "\n"
   ]
  },
  {
   "cell_type": "code",
   "execution_count": null,
   "metadata": {},
   "outputs": [],
   "source": []
  },
  {
   "cell_type": "code",
   "execution_count": null,
   "metadata": {},
   "outputs": [],
   "source": []
  },
  {
   "cell_type": "code",
   "execution_count": null,
   "metadata": {},
   "outputs": [],
   "source": []
  },
  {
   "cell_type": "code",
   "execution_count": null,
   "metadata": {},
   "outputs": [],
   "source": []
  },
  {
   "cell_type": "markdown",
   "metadata": {},
   "source": [
    "## DataFrames and DataFramesMeta"
   ]
  },
  {
   "cell_type": "code",
   "execution_count": 1,
   "metadata": {
    "collapsed": false
   },
   "outputs": [
    {
     "data": {
      "text/html": [
       "<table class=\"data-frame\"><tr><th></th><th>site</th><th>totalGDval</th><th>totalrichness</th><th>totalbasepairs</th><th>mammalsGDval</th><th>mammalsrichness</th><th>mammalsbasepairs</th><th>amphibiansGDval</th><th>amphibiansrichness</th><th>amphibiansbasepairs</th></tr><tr><th>1</th><td>298</td><td>0.005194805194805195</td><td>1</td><td>770</td><td>NA</td><td>NA</td><td>NA</td><td>0.005194805194805195</td><td>1</td><td>770</td></tr><tr><th>2</th><td>567</td><td>0.009869902328644146</td><td>6</td><td>11836</td><td>0.007119386637458927</td><td>2</td><td>4106</td><td>0.011245160174236756</td><td>4</td><td>7730</td></tr><tr><th>3</th><td>568</td><td>0.002845355006129511</td><td>2</td><td>5258</td><td>0.004842615012106538</td><td>1</td><td>1652</td><td>0.0008480950001524845</td><td>1</td><td>3606</td></tr><tr><th>4</th><td>657</td><td>0.007119386637458927</td><td>2</td><td>2596</td><td>0.014238773274917854</td><td>1</td><td>1826</td><td>0.0</td><td>1</td><td>770</td></tr><tr><th>5</th><td>661</td><td>0.0</td><td>1</td><td>770</td><td>NA</td><td>NA</td><td>NA</td><td>0.0</td><td>1</td><td>770</td></tr><tr><th>6</th><td>749</td><td>0.004518055783878569</td><td>2</td><td>3243</td><td>0.002109704641350211</td><td>1</td><td>2088</td><td>0.006926406926406926</td><td>1</td><td>1155</td></tr><tr><th>7</th><td>751</td><td>0.006182458313471746</td><td>5</td><td>12407</td><td>0.007995294880317269</td><td>3</td><td>10482</td><td>0.003463203463203463</td><td>2</td><td>1925</td></tr><tr><th>8</th><td>752</td><td>0.0001949317738791423</td><td>3</td><td>4960</td><td>0.0005847953216374269</td><td>1</td><td>3420</td><td>0.0</td><td>2</td><td>1540</td></tr><tr><th>9</th><td>770</td><td>0.011902751925953076</td><td>5</td><td>15983</td><td>0.014878439907441345</td><td>4</td><td>15403</td><td>0.0</td><td>1</td><td>580</td></tr><tr><th>10</th><td>843</td><td>0.0</td><td>1</td><td>770</td><td>NA</td><td>NA</td><td>NA</td><td>0.0</td><td>1</td><td>770</td></tr><tr><th>11</th><td>862</td><td>0.011983380033772233</td><td>33</td><td>312402</td><td>0.012271005919019357</td><td>32</td><td>221070</td><td>0.0027793517058643186</td><td>1</td><td>91332</td></tr><tr><th>12</th><td>929</td><td>0.014451204129166176</td><td>4</td><td>13409</td><td>0.018113871017820415</td><td>3</td><td>12254</td><td>0.003463203463203463</td><td>1</td><td>1155</td></tr><tr><th>13</th><td>932</td><td>0.0024114013327496474</td><td>5</td><td>7242</td><td>0.00472980203317282</td><td>2</td><td>3536</td><td>0.0008658008658008658</td><td>3</td><td>3706</td></tr><tr><th>14</th><td>933</td><td>0.026896174010336837</td><td>11</td><td>19845</td><td>0.019977767564971147</td><td>4</td><td>13143</td><td>0.030849549121974372</td><td>7</td><td>6702</td></tr><tr><th>15</th><td>952</td><td>0.03668771082282055</td><td>3</td><td>15481</td><td>0.05503156623423083</td><td>2</td><td>14901</td><td>0.0</td><td>1</td><td>580</td></tr><tr><th>16</th><td>953</td><td>0.00800215162400734</td><td>9</td><td>84214</td><td>0.008427707933330097</td><td>8</td><td>83344</td><td>0.004597701149425287</td><td>1</td><td>870</td></tr><tr><th>17</th><td>957</td><td>0.0015917241483795151</td><td>3</td><td>19367</td><td>0.001135852451641925</td><td>2</td><td>16650</td><td>0.0025034675418546953</td><td>1</td><td>2717</td></tr><tr><th>18</th><td>1023</td><td>0.008589710483600119</td><td>2</td><td>7237</td><td>0.005019814192636685</td><td>1</td><td>2445</td><td>0.01215960677456355</td><td>1</td><td>4792</td></tr><tr><th>19</th><td>1024</td><td>0.019356728608579822</td><td>13</td><td>45194</td><td>0.010630967276162537</td><td>4</td><td>8483</td><td>0.02323484475632083</td><td>9</td><td>36711</td></tr><tr><th>20</th><td>1047</td><td>0.015279824091184113</td><td>20</td><td>144645</td><td>0.012200437394010619</td><td>10</td><td>106855</td><td>0.01835921078835761</td><td>10</td><td>37790</td></tr><tr><th>21</th><td>1108</td><td>0.004464285714285714</td><td>1</td><td>1391</td><td>NA</td><td>NA</td><td>NA</td><td>0.004464285714285714</td><td>1</td><td>1391</td></tr><tr><th>22</th><td>1111</td><td>0.009938423806811095</td><td>3</td><td>9400</td><td>0.009712830515411448</td><td>2</td><td>8630</td><td>0.01038961038961039</td><td>1</td><td>770</td></tr><tr><th>23</th><td>1112</td><td>0.01963806425068947</td><td>8</td><td>44217</td><td>0.018881205929554164</td><td>6</td><td>29191</td><td>0.021908639214095388</td><td>2</td><td>15026</td></tr><tr><th>24</th><td>1114</td><td>0.0051005315085415216</td><td>2</td><td>2372</td><td>0.0050062578222778474</td><td>1</td><td>1602</td><td>0.005194805194805195</td><td>1</td><td>770</td></tr><tr><th>25</th><td>1115</td><td>0.020357936612798506</td><td>12</td><td>28892</td><td>0.01851161381820217</td><td>10</td><td>25832</td><td>0.02958955058578019</td><td>2</td><td>3060</td></tr><tr><th>26</th><td>1136</td><td>0.0038307009235890362</td><td>9</td><td>47971</td><td>0.003603988697376985</td><td>8</td><td>41805</td><td>0.005644398733285449</td><td>1</td><td>6166</td></tr><tr><th>27</th><td>1137</td><td>0.011247648742317347</td><td>23</td><td>282407</td><td>0.00830476654384676</td><td>13</td><td>103176</td><td>0.01507339560032911</td><td>10</td><td>179231</td></tr><tr><th>28</th><td>1138</td><td>0.02736318483099201</td><td>14</td><td>46987</td><td>0.0033019530073802577</td><td>4</td><td>17941</td><td>0.03698767756043671</td><td>10</td><td>29046</td></tr><tr><th>29</th><td>1198</td><td>0.01646334475071371</td><td>5</td><td>17660</td><td>0.016941801342366055</td><td>4</td><td>14148</td><td>0.014549518384104343</td><td>1</td><td>3512</td></tr><tr><th>30</th><td>1199</td><td>0.005812164046136429</td><td>6</td><td>16476</td><td>0.008840319386622749</td><td>3</td><td>11385</td><td>0.002784008705650107</td><td>3</td><td>5091</td></tr><tr><th>&vellip;</th><td>&vellip;</td><td>&vellip;</td><td>&vellip;</td><td>&vellip;</td><td>&vellip;</td><td>&vellip;</td><td>&vellip;</td><td>&vellip;</td><td>&vellip;</td><td>&vellip;</td></tr></table>"
      ],
      "text/plain": [
       "657×10 DataFrames.DataFrame\n",
       "│ Row │ site │ totalGDval  │ totalrichness │ totalbasepairs │ mammalsGDval │\n",
       "├─────┼──────┼─────────────┼───────────────┼────────────────┼──────────────┤\n",
       "│ 1   │ 298  │ 0.00519481  │ 1             │ 770            │ NA           │\n",
       "│ 2   │ 567  │ 0.0098699   │ 6             │ 11836          │ 0.00711939   │\n",
       "│ 3   │ 568  │ 0.00284536  │ 2             │ 5258           │ 0.00484262   │\n",
       "│ 4   │ 657  │ 0.00711939  │ 2             │ 2596           │ 0.0142388    │\n",
       "│ 5   │ 661  │ 0.0         │ 1             │ 770            │ NA           │\n",
       "│ 6   │ 749  │ 0.00451806  │ 2             │ 3243           │ 0.0021097    │\n",
       "│ 7   │ 751  │ 0.00618246  │ 5             │ 12407          │ 0.00799529   │\n",
       "│ 8   │ 752  │ 0.000194932 │ 3             │ 4960           │ 0.000584795  │\n",
       "│ 9   │ 770  │ 0.0119028   │ 5             │ 15983          │ 0.0148784    │\n",
       "│ 10  │ 843  │ 0.0         │ 1             │ 770            │ NA           │\n",
       "│ 11  │ 862  │ 0.0119834   │ 33            │ 312402         │ 0.012271     │\n",
       "⋮\n",
       "│ 646 │ 3290 │ 0.00245479  │ 3             │ 14726          │ 0.00245479   │\n",
       "│ 647 │ 3292 │ 0.00854136  │ 3             │ 21244          │ 0.00854136   │\n",
       "│ 648 │ 3293 │ 0.012391    │ 3             │ 9727           │ 0.012391     │\n",
       "│ 649 │ 3294 │ 0.0209272   │ 2             │ 30588          │ 0.0209272    │\n",
       "│ 650 │ 3296 │ 0.0219621   │ 2             │ 21650          │ 0.0219621    │\n",
       "│ 651 │ 3299 │ 0.00425327  │ 2             │ 12124          │ 0.00425327   │\n",
       "│ 652 │ 3300 │ 0.00206369  │ 1             │ 20487          │ 0.00206369   │\n",
       "│ 653 │ 3301 │ 0.00324675  │ 1             │ 2464           │ 0.00324675   │\n",
       "│ 654 │ 3304 │ 0.00877193  │ 1             │ 3420           │ 0.00877193   │\n",
       "│ 655 │ 3321 │ 0.0         │ 1             │ 3420           │ 0.0          │\n",
       "│ 656 │ 3328 │ 0.0105263   │ 1             │ 2280           │ 0.0105263    │\n",
       "│ 657 │ 3336 │ 0.00263274  │ 2             │ 4554           │ 0.00263274   │\n",
       "\n",
       "│ Row │ mammalsrichness │ mammalsbasepairs │ amphibiansGDval │\n",
       "├─────┼─────────────────┼──────────────────┼─────────────────┤\n",
       "│ 1   │ NA              │ NA               │ 0.00519481      │\n",
       "│ 2   │ 2               │ 4106             │ 0.0112452       │\n",
       "│ 3   │ 1               │ 1652             │ 0.000848095     │\n",
       "│ 4   │ 1               │ 1826             │ 0.0             │\n",
       "│ 5   │ NA              │ NA               │ 0.0             │\n",
       "│ 6   │ 1               │ 2088             │ 0.00692641      │\n",
       "│ 7   │ 3               │ 10482            │ 0.0034632       │\n",
       "│ 8   │ 1               │ 3420             │ 0.0             │\n",
       "│ 9   │ 4               │ 15403            │ 0.0             │\n",
       "│ 10  │ NA              │ NA               │ 0.0             │\n",
       "│ 11  │ 32              │ 221070           │ 0.00277935      │\n",
       "⋮\n",
       "│ 646 │ 3               │ 14726            │ NA              │\n",
       "│ 647 │ 3               │ 21244            │ NA              │\n",
       "│ 648 │ 3               │ 9727             │ NA              │\n",
       "│ 649 │ 2               │ 30588            │ NA              │\n",
       "│ 650 │ 2               │ 21650            │ NA              │\n",
       "│ 651 │ 2               │ 12124            │ NA              │\n",
       "│ 652 │ 1               │ 20487            │ NA              │\n",
       "│ 653 │ 1               │ 2464             │ NA              │\n",
       "│ 654 │ 1               │ 3420             │ NA              │\n",
       "│ 655 │ 1               │ 3420             │ NA              │\n",
       "│ 656 │ 1               │ 2280             │ NA              │\n",
       "│ 657 │ 2               │ 4554             │ NA              │\n",
       "\n",
       "│ Row │ amphibiansrichness │ amphibiansbasepairs │\n",
       "├─────┼────────────────────┼─────────────────────┤\n",
       "│ 1   │ 1                  │ 770                 │\n",
       "│ 2   │ 4                  │ 7730                │\n",
       "│ 3   │ 1                  │ 3606                │\n",
       "│ 4   │ 1                  │ 770                 │\n",
       "│ 5   │ 1                  │ 770                 │\n",
       "│ 6   │ 1                  │ 1155                │\n",
       "│ 7   │ 2                  │ 1925                │\n",
       "│ 8   │ 2                  │ 1540                │\n",
       "│ 9   │ 1                  │ 580                 │\n",
       "│ 10  │ 1                  │ 770                 │\n",
       "│ 11  │ 1                  │ 91332               │\n",
       "⋮\n",
       "│ 646 │ NA                 │ NA                  │\n",
       "│ 647 │ NA                 │ NA                  │\n",
       "│ 648 │ NA                 │ NA                  │\n",
       "│ 649 │ NA                 │ NA                  │\n",
       "│ 650 │ NA                 │ NA                  │\n",
       "│ 651 │ NA                 │ NA                  │\n",
       "│ 652 │ NA                 │ NA                  │\n",
       "│ 653 │ NA                 │ NA                  │\n",
       "│ 654 │ NA                 │ NA                  │\n",
       "│ 655 │ NA                 │ NA                  │\n",
       "│ 656 │ NA                 │ NA                  │\n",
       "│ 657 │ NA                 │ NA                  │"
      ]
     },
     "execution_count": 1,
     "metadata": {},
     "output_type": "execute_result"
    }
   ],
   "source": [
    "using DataFrames\n",
    "dat = readtable(\"equalarea_numbers.csv\")"
   ]
  },
  {
   "cell_type": "code",
   "execution_count": 2,
   "metadata": {
    "collapsed": false
   },
   "outputs": [
    {
     "data": {
      "text/plain": [
       "3.984779299847793"
      ]
     },
     "execution_count": 2,
     "metadata": {},
     "output_type": "execute_result"
    }
   ],
   "source": [
    "mean(dat[:totalrichness])"
   ]
  },
  {
   "cell_type": "code",
   "execution_count": 3,
   "metadata": {
    "collapsed": false
   },
   "outputs": [],
   "source": [
    "using DataFramesMeta"
   ]
  },
  {
   "cell_type": "code",
   "execution_count": 56,
   "metadata": {
    "collapsed": false
   },
   "outputs": [
    {
     "data": {
      "text/html": [
       "<table class=\"data-frame\"><tr><th></th><th>site</th><th>totalGDval</th><th>totalrichness</th><th>totalbasepairs</th><th>mammalsGDval</th><th>mammalsrichness</th><th>mammalsbasepairs</th><th>amphibiansGDval</th><th>amphibiansrichness</th><th>amphibiansbasepairs</th></tr><tr><th>1</th><td>3202</td><td>0.0032574701854463832</td><td>5</td><td>28196</td><td>0.004071837731807979</td><td>4</td><td>27534</td><td>0.0</td><td>1</td><td>662</td></tr><tr><th>2</th><td>3233</td><td>0.0036511380381508535</td><td>8</td><td>120547</td><td>0.004069040727170071</td><td>7</td><td>86935</td><td>0.0007258192150163339</td><td>1</td><td>33612</td></tr><tr><th>3</th><td>3291</td><td>0.0009985727017001022</td><td>3</td><td>18675</td><td>0.0014978590525501533</td><td>2</td><td>17247</td><td>0.0</td><td>1</td><td>1428</td></tr><tr><th>4</th><td>3318</td><td>0.0031747594868770787</td><td>2</td><td>12542</td><td>0.005765236180882407</td><td>1</td><td>9119</td><td>0.0005842827928717499</td><td>1</td><td>3423</td></tr><tr><th>5</th><td>3329</td><td>0.0007019021930908186</td><td>2</td><td>10185</td><td>0.0014038043861816373</td><td>1</td><td>6569</td><td>0.0</td><td>1</td><td>3616</td></tr><tr><th>6</th><td>3201</td><td>0.0</td><td>1</td><td>2096</td><td>0.0</td><td>1</td><td>2096</td><td>NA</td><td>NA</td><td>NA</td></tr><tr><th>7</th><td>3203</td><td>0.008545034642032332</td><td>1</td><td>4330</td><td>0.008545034642032332</td><td>1</td><td>4330</td><td>NA</td><td>NA</td><td>NA</td></tr><tr><th>8</th><td>3207</td><td>0.0068547616189370995</td><td>1</td><td>4746</td><td>0.0068547616189370995</td><td>1</td><td>4746</td><td>NA</td><td>NA</td><td>NA</td></tr><tr><th>9</th><td>3208</td><td>0.0026350461133069825</td><td>1</td><td>2277</td><td>0.0026350461133069825</td><td>1</td><td>2277</td><td>NA</td><td>NA</td><td>NA</td></tr><tr><th>10</th><td>3218</td><td>0.0</td><td>1</td><td>4560</td><td>0.0</td><td>1</td><td>4560</td><td>NA</td><td>NA</td><td>NA</td></tr><tr><th>11</th><td>3221</td><td>0.009218831963630004</td><td>4</td><td>49932</td><td>0.009218831963630004</td><td>4</td><td>49932</td><td>NA</td><td>NA</td><td>NA</td></tr><tr><th>12</th><td>3225</td><td>0.0008771929824561404</td><td>1</td><td>2280</td><td>0.0008771929824561404</td><td>1</td><td>2280</td><td>NA</td><td>NA</td><td>NA</td></tr><tr><th>13</th><td>3229</td><td>0.0027197563276757583</td><td>2</td><td>18176</td><td>0.0027197563276757583</td><td>2</td><td>18176</td><td>NA</td><td>NA</td><td>NA</td></tr><tr><th>14</th><td>3234</td><td>0.011067193675889325</td><td>1</td><td>4554</td><td>0.011067193675889325</td><td>1</td><td>4554</td><td>NA</td><td>NA</td><td>NA</td></tr><tr><th>15</th><td>3235</td><td>0.0</td><td>1</td><td>2280</td><td>0.0</td><td>1</td><td>2280</td><td>NA</td><td>NA</td><td>NA</td></tr><tr><th>16</th><td>3243</td><td>0.0005863383172090296</td><td>1</td><td>3411</td><td>0.0005863383172090296</td><td>1</td><td>3411</td><td>NA</td><td>NA</td><td>NA</td></tr><tr><th>17</th><td>3244</td><td>0.002003282603258498</td><td>2</td><td>16657</td><td>0.002003282603258498</td><td>2</td><td>16657</td><td>NA</td><td>NA</td><td>NA</td></tr><tr><th>18</th><td>3245</td><td>0.002631578947368421</td><td>1</td><td>4560</td><td>0.002631578947368421</td><td>1</td><td>4560</td><td>NA</td><td>NA</td><td>NA</td></tr><tr><th>19</th><td>3246</td><td>0.0</td><td>1</td><td>2280</td><td>0.0</td><td>1</td><td>2280</td><td>NA</td><td>NA</td><td>NA</td></tr><tr><th>20</th><td>3247</td><td>0.0037782383094724747</td><td>1</td><td>21579</td><td>0.0037782383094724747</td><td>1</td><td>21579</td><td>NA</td><td>NA</td><td>NA</td></tr><tr><th>21</th><td>3248</td><td>0.010015916058040142</td><td>7</td><td>133536</td><td>0.010015916058040142</td><td>7</td><td>133536</td><td>NA</td><td>NA</td><td>NA</td></tr><tr><th>22</th><td>3249</td><td>0.0034122265554696477</td><td>4</td><td>15387</td><td>0.0034122265554696477</td><td>4</td><td>15387</td><td>NA</td><td>NA</td><td>NA</td></tr><tr><th>23</th><td>3250</td><td>0.0043859649122807015</td><td>2</td><td>4560</td><td>0.0043859649122807015</td><td>2</td><td>4560</td><td>NA</td><td>NA</td><td>NA</td></tr><tr><th>24</th><td>3251</td><td>0.002254791431792559</td><td>1</td><td>1787</td><td>0.002254791431792559</td><td>1</td><td>1787</td><td>NA</td><td>NA</td><td>NA</td></tr><tr><th>25</th><td>3290</td><td>0.0024547916798627867</td><td>3</td><td>14726</td><td>0.0024547916798627867</td><td>3</td><td>14726</td><td>NA</td><td>NA</td><td>NA</td></tr><tr><th>26</th><td>3292</td><td>0.008541356577280987</td><td>3</td><td>21244</td><td>0.008541356577280987</td><td>3</td><td>21244</td><td>NA</td><td>NA</td><td>NA</td></tr><tr><th>27</th><td>3293</td><td>0.012391044186181949</td><td>3</td><td>9727</td><td>0.012391044186181949</td><td>3</td><td>9727</td><td>NA</td><td>NA</td><td>NA</td></tr><tr><th>28</th><td>3294</td><td>0.020927182264432475</td><td>2</td><td>30588</td><td>0.020927182264432475</td><td>2</td><td>30588</td><td>NA</td><td>NA</td><td>NA</td></tr><tr><th>29</th><td>3296</td><td>0.021962056570126124</td><td>2</td><td>21650</td><td>0.021962056570126124</td><td>2</td><td>21650</td><td>NA</td><td>NA</td><td>NA</td></tr><tr><th>30</th><td>3299</td><td>0.004253271747498075</td><td>2</td><td>12124</td><td>0.004253271747498075</td><td>2</td><td>12124</td><td>NA</td><td>NA</td><td>NA</td></tr><tr><th>&vellip;</th><td>&vellip;</td><td>&vellip;</td><td>&vellip;</td><td>&vellip;</td><td>&vellip;</td><td>&vellip;</td><td>&vellip;</td><td>&vellip;</td><td>&vellip;</td><td>&vellip;</td></tr></table>"
      ],
      "text/plain": [
       "36×10 DataFrames.DataFrame\n",
       "│ Row │ site │ totalGDval  │ totalrichness │ totalbasepairs │ mammalsGDval │\n",
       "├─────┼──────┼─────────────┼───────────────┼────────────────┼──────────────┤\n",
       "│ 1   │ 3202 │ 0.00325747  │ 5             │ 28196          │ 0.00407184   │\n",
       "│ 2   │ 3233 │ 0.00365114  │ 8             │ 120547         │ 0.00406904   │\n",
       "│ 3   │ 3291 │ 0.000998573 │ 3             │ 18675          │ 0.00149786   │\n",
       "│ 4   │ 3318 │ 0.00317476  │ 2             │ 12542          │ 0.00576524   │\n",
       "│ 5   │ 3329 │ 0.000701902 │ 2             │ 10185          │ 0.0014038    │\n",
       "│ 6   │ 3201 │ 0.0         │ 1             │ 2096           │ 0.0          │\n",
       "│ 7   │ 3203 │ 0.00854503  │ 1             │ 4330           │ 0.00854503   │\n",
       "│ 8   │ 3207 │ 0.00685476  │ 1             │ 4746           │ 0.00685476   │\n",
       "│ 9   │ 3208 │ 0.00263505  │ 1             │ 2277           │ 0.00263505   │\n",
       "│ 10  │ 3218 │ 0.0         │ 1             │ 4560           │ 0.0          │\n",
       "│ 11  │ 3221 │ 0.00921883  │ 4             │ 49932          │ 0.00921883   │\n",
       "⋮\n",
       "│ 25  │ 3290 │ 0.00245479  │ 3             │ 14726          │ 0.00245479   │\n",
       "│ 26  │ 3292 │ 0.00854136  │ 3             │ 21244          │ 0.00854136   │\n",
       "│ 27  │ 3293 │ 0.012391    │ 3             │ 9727           │ 0.012391     │\n",
       "│ 28  │ 3294 │ 0.0209272   │ 2             │ 30588          │ 0.0209272    │\n",
       "│ 29  │ 3296 │ 0.0219621   │ 2             │ 21650          │ 0.0219621    │\n",
       "│ 30  │ 3299 │ 0.00425327  │ 2             │ 12124          │ 0.00425327   │\n",
       "│ 31  │ 3300 │ 0.00206369  │ 1             │ 20487          │ 0.00206369   │\n",
       "│ 32  │ 3301 │ 0.00324675  │ 1             │ 2464           │ 0.00324675   │\n",
       "│ 33  │ 3304 │ 0.00877193  │ 1             │ 3420           │ 0.00877193   │\n",
       "│ 34  │ 3321 │ 0.0         │ 1             │ 3420           │ 0.0          │\n",
       "│ 35  │ 3328 │ 0.0105263   │ 1             │ 2280           │ 0.0105263    │\n",
       "│ 36  │ 3336 │ 0.00263274  │ 2             │ 4554           │ 0.00263274   │\n",
       "\n",
       "│ Row │ mammalsrichness │ mammalsbasepairs │ amphibiansGDval │\n",
       "├─────┼─────────────────┼──────────────────┼─────────────────┤\n",
       "│ 1   │ 4               │ 27534            │ 0.0             │\n",
       "│ 2   │ 7               │ 86935            │ 0.000725819     │\n",
       "│ 3   │ 2               │ 17247            │ 0.0             │\n",
       "│ 4   │ 1               │ 9119             │ 0.000584283     │\n",
       "│ 5   │ 1               │ 6569             │ 0.0             │\n",
       "│ 6   │ 1               │ 2096             │ NA              │\n",
       "│ 7   │ 1               │ 4330             │ NA              │\n",
       "│ 8   │ 1               │ 4746             │ NA              │\n",
       "│ 9   │ 1               │ 2277             │ NA              │\n",
       "│ 10  │ 1               │ 4560             │ NA              │\n",
       "│ 11  │ 4               │ 49932            │ NA              │\n",
       "⋮\n",
       "│ 25  │ 3               │ 14726            │ NA              │\n",
       "│ 26  │ 3               │ 21244            │ NA              │\n",
       "│ 27  │ 3               │ 9727             │ NA              │\n",
       "│ 28  │ 2               │ 30588            │ NA              │\n",
       "│ 29  │ 2               │ 21650            │ NA              │\n",
       "│ 30  │ 2               │ 12124            │ NA              │\n",
       "│ 31  │ 1               │ 20487            │ NA              │\n",
       "│ 32  │ 1               │ 2464             │ NA              │\n",
       "│ 33  │ 1               │ 3420             │ NA              │\n",
       "│ 34  │ 1               │ 3420             │ NA              │\n",
       "│ 35  │ 1               │ 2280             │ NA              │\n",
       "│ 36  │ 2               │ 4554             │ NA              │\n",
       "\n",
       "│ Row │ amphibiansrichness │ amphibiansbasepairs │\n",
       "├─────┼────────────────────┼─────────────────────┤\n",
       "│ 1   │ 1                  │ 662                 │\n",
       "│ 2   │ 1                  │ 33612               │\n",
       "│ 3   │ 1                  │ 1428                │\n",
       "│ 4   │ 1                  │ 3423                │\n",
       "│ 5   │ 1                  │ 3616                │\n",
       "│ 6   │ NA                 │ NA                  │\n",
       "│ 7   │ NA                 │ NA                  │\n",
       "│ 8   │ NA                 │ NA                  │\n",
       "│ 9   │ NA                 │ NA                  │\n",
       "│ 10  │ NA                 │ NA                  │\n",
       "│ 11  │ NA                 │ NA                  │\n",
       "⋮\n",
       "│ 25  │ NA                 │ NA                  │\n",
       "│ 26  │ NA                 │ NA                  │\n",
       "│ 27  │ NA                 │ NA                  │\n",
       "│ 28  │ NA                 │ NA                  │\n",
       "│ 29  │ NA                 │ NA                  │\n",
       "│ 30  │ NA                 │ NA                  │\n",
       "│ 31  │ NA                 │ NA                  │\n",
       "│ 32  │ NA                 │ NA                  │\n",
       "│ 33  │ NA                 │ NA                  │\n",
       "│ 34  │ NA                 │ NA                  │\n",
       "│ 35  │ NA                 │ NA                  │\n",
       "│ 36  │ NA                 │ NA                  │"
      ]
     },
     "execution_count": 56,
     "metadata": {},
     "output_type": "execute_result"
    }
   ],
   "source": [
    "@where(dat, :site .> 3200)"
   ]
  }
 ],
 "metadata": {
  "kernelspec": {
   "display_name": "Julia 1.1.0-rc1",
   "language": "julia",
   "name": "julia-1.1"
  },
  "language_info": {
   "file_extension": ".jl",
   "mimetype": "application/julia",
   "name": "julia",
   "version": "1.1.0"
  }
 },
 "nbformat": 4,
 "nbformat_minor": 2
}
