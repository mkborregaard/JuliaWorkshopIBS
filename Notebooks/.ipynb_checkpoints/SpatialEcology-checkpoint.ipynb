{
 "cells": [
  {
   "cell_type": "code",
   "execution_count": null,
   "metadata": {},
   "outputs": [],
   "source": [
    "using CSV, DataFrames, SpatialEcology, Plots\n",
    "amphdata = CSV.read(joinpath(dirname(pathof(SpatialEcology)), \"..\", \"data\", \"amph_Europe.csv\"))\n",
    "first(amphdata, 4)"
   ]
  },
  {
   "cell_type": "code",
   "execution_count": null,
   "metadata": {},
   "outputs": [],
   "source": [
    "amph = Assemblage(amphdata[4:end],amphdata[1:3], sitecolumns = false)"
   ]
  },
  {
   "cell_type": "code",
   "execution_count": null,
   "metadata": {},
   "outputs": [],
   "source": [
    "plot(amph)"
   ]
  },
  {
   "cell_type": "markdown",
   "metadata": {},
   "source": [
    "Get the mean range of all species occurring in a grid cell"
   ]
  },
  {
   "cell_type": "code",
   "execution_count": null,
   "metadata": {},
   "outputs": [],
   "source": [
    "using Statistics #needed for `mean` :-O\n",
    "meanrange = map(site->mean(occupancy(amph)[occurring(amph,site)]), 1:nsites(amph));"
   ]
  },
  {
   "cell_type": "code",
   "execution_count": null,
   "metadata": {},
   "outputs": [],
   "source": [
    "plot(\n",
    "    plot(meanrange, amph),\n",
    "    scatter(coordinates(amph)[:,2], meanrange, \n",
    "        xlabel = \"Latitude\", ylabel = \"Mean range\", \n",
    "        legend = false, msc = :white, smooth = true, lc = :red, lw = 2),\n",
    "    size = (800, 300)\n",
    "    )"
   ]
  },
  {
   "cell_type": "code",
   "execution_count": null,
   "metadata": {},
   "outputs": [],
   "source": []
  },
  {
   "cell_type": "markdown",
   "metadata": {},
   "source": [
    "## Analysis of drivers of richness of African mammals\n",
    "First, let's read some data. We have 1 x 1 gridded mammal occurrences (based on IUCN shapefiles), and the coordinates of the grid cells, in two different CSV files. Let's get them in:"
   ]
  },
  {
   "cell_type": "code",
   "execution_count": null,
   "metadata": {},
   "outputs": [],
   "source": [
    "mam = CSV.read(\"../Data/world_mammals.csv\", allowmissing = :none)\n",
    "first(mam, 6)"
   ]
  },
  {
   "cell_type": "code",
   "execution_count": null,
   "metadata": {},
   "outputs": [],
   "source": [
    "cd = CSV.read(\"../Data/mammal_coordinates.csv\", allowmissing = :none)\n",
    "first(cd, 6)"
   ]
  },
  {
   "cell_type": "markdown",
   "metadata": {},
   "source": [
    "Create a SpatialEcology object using one of the constructors"
   ]
  },
  {
   "cell_type": "code",
   "execution_count": null,
   "metadata": {},
   "outputs": [],
   "source": [
    "mammals = Assemblage(ComMatrix(species = mam[:species], sites = mam[:sites]), cd)"
   ]
  },
  {
   "cell_type": "code",
   "execution_count": null,
   "metadata": {},
   "outputs": [],
   "source": [
    "default(fillcolor = :RdYlBu_r)\n",
    "plot(mammals)"
   ]
  },
  {
   "cell_type": "markdown",
   "metadata": {},
   "source": [
    "We also have a data file with the various \"Wallace regions\" of each grid cell. Let's read it in, attach the data to the data set, then use it to only select the African continent"
   ]
  },
  {
   "cell_type": "code",
   "execution_count": null,
   "metadata": {},
   "outputs": [],
   "source": [
    "wal = CSV.read(\"../Data/wallace_points.csv\", allowmissing = :auto)\n",
    "first(wal, 6)"
   ]
  },
  {
   "cell_type": "markdown",
   "metadata": {},
   "source": [
    "Attach it"
   ]
  },
  {
   "cell_type": "code",
   "execution_count": null,
   "metadata": {},
   "outputs": [],
   "source": [
    "addsitestats!(mammals, wal, :coord) #the coord arg defines where the site info is"
   ]
  },
  {
   "cell_type": "markdown",
   "metadata": {},
   "source": [
    "To get just Africe, we use a `view` We will also drop all the species that do not occur in Africa"
   ]
  },
  {
   "cell_type": "code",
   "execution_count": null,
   "metadata": {},
   "outputs": [],
   "source": [
    "m = view(mammals, sites = mammals[:Realm] .== \"Afrotropical\",dropempty = true)"
   ]
  },
  {
   "cell_type": "markdown",
   "metadata": {},
   "source": [
    "This behaves exactly like a full Assemblage object, but only shows part of it."
   ]
  },
  {
   "cell_type": "code",
   "execution_count": null,
   "metadata": {},
   "outputs": [],
   "source": [
    "plot(m)"
   ]
  },
  {
   "cell_type": "markdown",
   "metadata": {},
   "source": [
    "We're only going to use this subset of the dataset from now on, so inset of a view, we want a stand-alone dataset. It's faster, and adjusts the limits of the dataset. Copying takes a little time"
   ]
  },
  {
   "cell_type": "code",
   "execution_count": null,
   "metadata": {},
   "outputs": [],
   "source": [
    "mammals = copy(m)\n",
    "plot(mammals)"
   ]
  },
  {
   "cell_type": "code",
   "execution_count": null,
   "metadata": {},
   "outputs": [],
   "source": []
  },
  {
   "cell_type": "markdown",
   "metadata": {},
   "source": [
    "We can now use the JLD2 package to save this dataset to file for new analysis"
   ]
  },
  {
   "cell_type": "code",
   "execution_count": null,
   "metadata": {},
   "outputs": [],
   "source": [
    "# or not - voluntary\n",
    "using JLD2\n",
    "@save \"African_Mammals.jld\" mammals"
   ]
  },
  {
   "cell_type": "markdown",
   "metadata": {},
   "source": [
    "We can get information out of the object with these convenience methods"
   ]
  },
  {
   "cell_type": "code",
   "execution_count": null,
   "metadata": {},
   "outputs": [],
   "source": [
    "occupancy(mammals)' # the transposition operator `'` makes it easier to see"
   ]
  },
  {
   "cell_type": "code",
   "execution_count": null,
   "metadata": {},
   "outputs": [],
   "source": [
    "plot(\n",
    "    histogram(occupancy(mammals)),\n",
    "    histogram(richness(mammals)),\n",
    "    size = (600, 250), legend = false, title = [\"occupancy\" \"richness\"]\n",
    "    )"
   ]
  },
  {
   "cell_type": "markdown",
   "metadata": {},
   "source": [
    "Let's add the occupancy quantiles to the dataset, and use it to group the data"
   ]
  },
  {
   "cell_type": "code",
   "execution_count": null,
   "metadata": {},
   "outputs": [],
   "source": [
    "addtraits!(mammals, asquantiles(occupancy(mammals), 4), :quartiles)\n",
    "quarts = groupspecies(mammals, :quartiles)"
   ]
  },
  {
   "cell_type": "markdown",
   "metadata": {},
   "source": [
    "It's just a Vector of SubAssemblages, and we can get info on each:"
   ]
  },
  {
   "cell_type": "code",
   "execution_count": null,
   "metadata": {},
   "outputs": [],
   "source": [
    "nspecies.(quarts)"
   ]
  },
  {
   "cell_type": "code",
   "execution_count": null,
   "metadata": {},
   "outputs": [],
   "source": [
    "plot(plot.(quarts)..., title = [\"Quartile $i\" for i in (1:4)'])"
   ]
  },
  {
   "cell_type": "code",
   "execution_count": null,
   "metadata": {},
   "outputs": [],
   "source": []
  },
  {
   "cell_type": "markdown",
   "metadata": {},
   "source": [
    "### Quartile relationship to environmental variables\n",
    "Let's look at the relationship between richness and NPP for these quartiles. Let's load a database of global NPP values"
   ]
  },
  {
   "cell_type": "code",
   "execution_count": null,
   "metadata": {},
   "outputs": [],
   "source": [
    "NPP = CSV.read(\"../Data/NPP.csv\", allowmissing = :auto)\n",
    "describe(NPP)"
   ]
  },
  {
   "cell_type": "markdown",
   "metadata": {},
   "source": [
    "Add to the dataset and plot"
   ]
  },
  {
   "cell_type": "code",
   "execution_count": null,
   "metadata": {},
   "outputs": [],
   "source": [
    "addsitestats!(mammals, NPP, :coord)"
   ]
  },
  {
   "cell_type": "code",
   "execution_count": null,
   "metadata": {},
   "outputs": [],
   "source": [
    "plot(\n",
    "    plot(:NPP, mammals, fc = :algae),\n",
    "    scatter(mammals[:NPP], richness(mammals), ms = 2, msc = :white),\n",
    "    size = (800, 250)\n",
    "    )"
   ]
  },
  {
   "cell_type": "markdown",
   "metadata": {},
   "source": [
    "Let's look at the relationship across quartiles"
   ]
  },
  {
   "cell_type": "code",
   "execution_count": null,
   "metadata": {},
   "outputs": [],
   "source": [
    "quarts = groupspecies(mammals, :quartiles)\n",
    "p = [scatter(n[:NPP], richness(n)) for n in quarts]"
   ]
  },
  {
   "cell_type": "code",
   "execution_count": null,
   "metadata": {},
   "outputs": [],
   "source": [
    "plot(p..., link = :x, ms = 2, title = [\"1\" \"2\" \"3\" \"4\"], legend = false, mc=:red)"
   ]
  },
  {
   "cell_type": "code",
   "execution_count": null,
   "metadata": {},
   "outputs": [],
   "source": []
  },
  {
   "cell_type": "code",
   "execution_count": null,
   "metadata": {},
   "outputs": [],
   "source": []
  }
 ],
 "metadata": {
  "kernelspec": {
   "display_name": "Julia 1.1.0-rc1",
   "language": "julia",
   "name": "julia-1.1"
  },
  "language_info": {
   "file_extension": ".jl",
   "mimetype": "application/julia",
   "name": "julia",
   "version": "1.1.0"
  }
 },
 "nbformat": 4,
 "nbformat_minor": 2
}
