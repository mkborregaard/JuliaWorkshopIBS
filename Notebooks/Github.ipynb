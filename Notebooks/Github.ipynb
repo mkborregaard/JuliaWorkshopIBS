{
 "cells": [
  {
   "cell_type": "markdown",
   "metadata": {},
   "source": [
    "# A Very Quick Introduction to Git/Github for Julia Users\n",
    "\n",
    "Julia's package system and Github are very closely intertwined:\n",
    "\n",
    "- Julia's package management system (METADATA) is a Github repository\n",
    "- The packages are hosted as Github repositories\n",
    "- Julia packages are normally referred to with the ending “.jl”\n",
    "- Repositories register to become part of the central package management by sending a pull request to METADATA.jl\n",
    "- The packages can be found / investigated at Github.com\n",
    "- Julia's error messages are hyperlinks to the page in Github (very useful!)\n",
    "\n",
    "Because of this, it's very useful for everyone using Julia to know a little bit about Git/Github."
   ]
  },
  {
   "cell_type": "markdown",
   "metadata": {},
   "source": [
    "## Git Basics\n",
    "\n",
    "- Git is a common Version Control System (VCS)\n",
    "- A project is a **repository** (repos)\n",
    "- After one makes changes to a project, they **commit** the changes\n",
    "- Changes are **pulled** to the main repository hosted online\n",
    "- To download the code, you **clone** the repository\n",
    "- Instead of editing the main repository, one edits a **branch**\n",
    "- To get the changes of the main branch in yours, you **fetch**, **pull**, or **rebase**\n",
    "- One asks the owner of the repository to add their changes via a **pull request**\n",
    "- Stable versions are cut to **releases**"
   ]
  },
  {
   "cell_type": "markdown",
   "metadata": {},
   "source": [
    "## Github Basics\n",
    "\n",
    "- The major online server for git repositories is Github\n",
    "- Github is a free service\n",
    "- Anyone can get a Github account\n",
    "- The code is hosted online, free for everyone to view\n",
    "- Users can open **Issues** to ask for features and give bug reports to developers\n",
    "- Many projects are brought together into **organizations** (JuliaMath, JuliaDiffEq, JuliaStats, etc.) \n",
    "\n",
    "An example Github repository for a Julia package is is DifferentialEquations.jl: https://github.com/JuliaDiffEq/DifferentialEquations.jl"
   ]
  },
  {
   "cell_type": "markdown",
   "metadata": {},
   "source": [
    "## How to install a unregistered package directly from github?"
   ]
  },
  {
   "cell_type": "markdown",
   "metadata": {},
   "source": [
    "Just provide the github URL to Julia's `add`."
   ]
  },
  {
   "cell_type": "code",
   "execution_count": null,
   "metadata": {},
   "outputs": [],
   "source": [
    "] add https://github.com/crstnbr/Helpers.jl"
   ]
  },
  {
   "cell_type": "markdown",
   "metadata": {},
   "source": [
    "or"
   ]
  },
  {
   "cell_type": "code",
   "execution_count": null,
   "metadata": {},
   "outputs": [],
   "source": [
    "using Pkg\n",
    "Pkg.add(\"https://github.com/crstnbr/Helpers.jl\")"
   ]
  },
  {
   "cell_type": "markdown",
   "metadata": {},
   "source": [
    "## How to checkout the master branch of a registered package? (live on the bleeding edge)"
   ]
  },
  {
   "cell_type": "code",
   "execution_count": null,
   "metadata": {},
   "outputs": [],
   "source": [
    "] add PeriodicTable#master"
   ]
  },
  {
   "cell_type": "markdown",
   "metadata": {},
   "source": [
    "or"
   ]
  },
  {
   "cell_type": "code",
   "execution_count": null,
   "metadata": {},
   "outputs": [],
   "source": [
    "using Pkg\n",
    "Pkg.checkout(\"PeriodicTable\")"
   ]
  },
  {
   "cell_type": "markdown",
   "metadata": {},
   "source": [
    "## Live demo: file an issue, make a change + pull request"
   ]
  },
  {
   "cell_type": "markdown",
   "metadata": {},
   "source": [
    "## How to develop a package locally?"
   ]
  },
  {
   "cell_type": "code",
   "execution_count": null,
   "metadata": {},
   "outputs": [],
   "source": [
    "] dev PeriodicTable"
   ]
  },
  {
   "cell_type": "markdown",
   "metadata": {},
   "source": [
    "or"
   ]
  },
  {
   "cell_type": "code",
   "execution_count": null,
   "metadata": {},
   "outputs": [],
   "source": [
    "using Pkg\n",
    "Pkg.checkout(\"PeriodicTable\", \"dev\")"
   ]
  },
  {
   "cell_type": "markdown",
   "metadata": {},
   "source": [
    "This will clone the package's full git repository to `.julia/dev/PeriodicTable`. You are free to modify the source files in every way you want. The package manager will never touch those files again to avoid accidental data loss."
   ]
  },
  {
   "cell_type": "markdown",
   "metadata": {},
   "source": [
    "## What do those badges mean?\n",
    "\n",
    "![GithubBadges](https://github.com/ChrisRackauckas/JupyterSite/raw/master/assets/GithubBadges.PNG \"Badges of a Github Repository\")\n",
    "\n",
    "The badges on a Github repository show you the current state of the repo. From left to right:\n",
    "\n",
    "- Gitter Badge: Click this to go to a chatroom and directly chat with the developers\n",
    "- CI Build Badges: This tell you whether the CI tests pass. Click on them to see what versions of Julia the package works for.\n",
    "- Coverage: This tells you the percentage of the code that the tests cover. If coverage is low, parts of the package may not work even if the CI tests pass.\n",
    "- Docs Badges: Click on these to go to the package documentation."
   ]
  },
  {
   "cell_type": "markdown",
   "metadata": {},
   "source": [
    "## Basic through Advanced / Video Tutorial  on Github\n",
    "- For the visually inclined, here is a video tutorial on basic and advanced github workflow for developing and editing Julia Packages, as well as for setting up Continuous Integration (CI). \n",
    "\n",
    " [Developing and Editing Julia Packages - A Github Workflow for Julians](https://www.youtube.com/watch?v=tx8DRc7_c9I)"
   ]
  },
  {
   "cell_type": "code",
   "execution_count": null,
   "metadata": {},
   "outputs": [],
   "source": []
  }
 ],
 "metadata": {
  "kernelspec": {
   "display_name": "Julia 1.0.3",
   "language": "julia",
   "name": "julia-1.0"
  },
  "language_info": {
   "file_extension": ".jl",
   "mimetype": "application/julia",
   "name": "julia",
   "version": "1.0.3"
  }
 },
 "nbformat": 4,
 "nbformat_minor": 2
}
